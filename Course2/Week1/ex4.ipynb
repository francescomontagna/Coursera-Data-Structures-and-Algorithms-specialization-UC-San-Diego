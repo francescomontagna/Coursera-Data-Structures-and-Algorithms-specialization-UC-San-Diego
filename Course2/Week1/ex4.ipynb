{
 "cells": [
  {
   "cell_type": "code",
   "execution_count": 17,
   "id": "capital-curve",
   "metadata": {},
   "outputs": [],
   "source": [
    "class ExtendedStack:\n",
    "    def __init__(self):\n",
    "        self.stack = list()\n",
    "        self.max_stack = list()\n",
    "        \n",
    "    def pop(self):\n",
    "        if self.top() == self.max_stack[-1]:\n",
    "            self.max_stack.pop()\n",
    "            \n",
    "        return self.stack.pop()\n",
    "    \n",
    "    def top(self):\n",
    "        return self.stack[-1]\n",
    "    \n",
    "    def push(self, el):\n",
    "        if len(self.max_stack) == 0:\n",
    "            self.max_stack.append(el)\n",
    "            \n",
    "        elif el >= self.max_stack[-1]:\n",
    "            self.max_stack.append(el)\n",
    "            \n",
    "        self.stack.append(el)\n",
    "        \n",
    "    def empty(self):\n",
    "        return len(self.stack) == 0\n",
    "    \n",
    "    # O(1) since on top of the stack we keep the largest element\n",
    "    def stack_max(self):\n",
    "        print(self.max_stack[-1])"
   ]
  },
  {
   "cell_type": "code",
   "execution_count": 24,
   "id": "upper-spelling",
   "metadata": {},
   "outputs": [
    {
     "name": "stdout",
     "output_type": "stream",
     "text": [
      "7\n",
      "7\n"
     ]
    }
   ],
   "source": [
    "stack = ExtendedStack()\n",
    "queries = ['6', 'push 7', 'push 1', 'push 7', 'stack_max', 'pop', 'stack_max']\n",
    "\n",
    "num_queries = queries.pop(0)\n",
    "for el in queries:\n",
    "    query = el.split(' ')\n",
    "    method = getattr(stack, query[0])\n",
    "    if len(query) > 1:\n",
    "        method(int(query[1]))\n",
    "    else:\n",
    "        method()"
   ]
  }
 ],
 "metadata": {
  "kernelspec": {
   "display_name": "Python 3",
   "language": "python",
   "name": "python3"
  },
  "language_info": {
   "codemirror_mode": {
    "name": "ipython",
    "version": 3
   },
   "file_extension": ".py",
   "mimetype": "text/x-python",
   "name": "python",
   "nbconvert_exporter": "python",
   "pygments_lexer": "ipython3",
   "version": "3.7.9"
  }
 },
 "nbformat": 4,
 "nbformat_minor": 5
}
