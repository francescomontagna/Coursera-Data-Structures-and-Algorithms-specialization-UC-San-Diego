{
 "cells": [
  {
   "cell_type": "code",
   "execution_count": 11,
   "id": "imposed-regard",
   "metadata": {},
   "outputs": [],
   "source": [
    "class Stack:\n",
    "    def __init__(self):\n",
    "        self.stack = list()\n",
    "        \n",
    "    def pop(self):\n",
    "        return self.stack.pop()\n",
    "    \n",
    "    def top(self):\n",
    "        return self.stack[-1]\n",
    "    \n",
    "    def push(self, el):\n",
    "        self.stack.append(el)\n",
    "        \n",
    "    def empty(self):\n",
    "        return len(self.stack) == 0"
   ]
  },
  {
   "cell_type": "code",
   "execution_count": 27,
   "id": "later-trinity",
   "metadata": {},
   "outputs": [],
   "source": [
    "def main(sentence):\n",
    "    \n",
    "    stack = Stack()\n",
    "    first_unmatched_idx = -1\n",
    "    brackets_match = {')': '(', ']':'[', '}':'{'}\n",
    "    opening_brackets = list(brackets_match.values())\n",
    "    closing_brackets = list(brackets_match.keys())\n",
    "    \n",
    "    for idx, c in enumerate(sentence):\n",
    "        if c in opening_brackets:\n",
    "            if stack.empty():\n",
    "                first_unmatched_idx = idx + 1\n",
    "            stack.push(c)\n",
    "            \n",
    "        elif c in closing_brackets:\n",
    "            if stack.top() == brackets_match[c]:\n",
    "                _ = stack.pop()\n",
    "            else:\n",
    "                raise RuntimeError(f\"Error: closing bracket not matched at index {idx+1}\")\n",
    "            \n",
    "    if not stack.empty():\n",
    "        raise RuntimeError(f\"Error: opening bracket not matched at index {first_unmatched_idx}\")\n",
    "    else:\n",
    "        print(\"Success\")"
   ]
  },
  {
   "cell_type": "code",
   "execution_count": 28,
   "id": "hourly-duration",
   "metadata": {},
   "outputs": [
    {
     "ename": "RuntimeError",
     "evalue": "Error: closing bracket not matched at index 10",
     "output_type": "error",
     "traceback": [
      "\u001b[0;31m---------------------------------------------------------------------------\u001b[0m",
      "\u001b[0;31mRuntimeError\u001b[0m                              Traceback (most recent call last)",
      "\u001b[0;32m<timed exec>\u001b[0m in \u001b[0;36m<module>\u001b[0;34m\u001b[0m\n",
      "\u001b[0;32m<ipython-input-27-7cbb50b5229f>\u001b[0m in \u001b[0;36mmain\u001b[0;34m(sentence)\u001b[0m\n\u001b[1;32m     17\u001b[0m                 \u001b[0m_\u001b[0m \u001b[0;34m=\u001b[0m \u001b[0mstack\u001b[0m\u001b[0;34m.\u001b[0m\u001b[0mpop\u001b[0m\u001b[0;34m(\u001b[0m\u001b[0;34m)\u001b[0m\u001b[0;34m\u001b[0m\u001b[0;34m\u001b[0m\u001b[0m\n\u001b[1;32m     18\u001b[0m             \u001b[0;32melse\u001b[0m\u001b[0;34m:\u001b[0m\u001b[0;34m\u001b[0m\u001b[0;34m\u001b[0m\u001b[0m\n\u001b[0;32m---> 19\u001b[0;31m                 \u001b[0;32mraise\u001b[0m \u001b[0mRuntimeError\u001b[0m\u001b[0;34m(\u001b[0m\u001b[0;34mf\"Error: closing bracket not matched at index {idx+1}\"\u001b[0m\u001b[0;34m)\u001b[0m\u001b[0;34m\u001b[0m\u001b[0;34m\u001b[0m\u001b[0m\n\u001b[0m\u001b[1;32m     20\u001b[0m \u001b[0;34m\u001b[0m\u001b[0m\n\u001b[1;32m     21\u001b[0m     \u001b[0;32mif\u001b[0m \u001b[0;32mnot\u001b[0m \u001b[0mstack\u001b[0m\u001b[0;34m.\u001b[0m\u001b[0mempty\u001b[0m\u001b[0;34m(\u001b[0m\u001b[0;34m)\u001b[0m\u001b[0;34m:\u001b[0m\u001b[0;34m\u001b[0m\u001b[0;34m\u001b[0m\u001b[0m\n",
      "\u001b[0;31mRuntimeError\u001b[0m: Error: closing bracket not matched at index 10"
     ]
    }
   ],
   "source": [
    "# All check passed\n",
    "%%time\n",
    "sentence = \"foo(bar[i)\"\n",
    "main(sentence)"
   ]
  }
 ],
 "metadata": {
  "kernelspec": {
   "display_name": "Python 3",
   "language": "python",
   "name": "python3"
  },
  "language_info": {
   "codemirror_mode": {
    "name": "ipython",
    "version": 3
   },
   "file_extension": ".py",
   "mimetype": "text/x-python",
   "name": "python",
   "nbconvert_exporter": "python",
   "pygments_lexer": "ipython3",
   "version": "3.7.9"
  }
 },
 "nbformat": 4,
 "nbformat_minor": 5
}
