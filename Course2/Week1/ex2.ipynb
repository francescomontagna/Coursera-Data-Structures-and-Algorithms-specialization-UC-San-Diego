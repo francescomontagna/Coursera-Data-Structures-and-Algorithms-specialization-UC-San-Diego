{
 "cells": [
  {
   "cell_type": "code",
   "execution_count": 57,
   "id": "younger-investment",
   "metadata": {},
   "outputs": [],
   "source": [
    "class Node:\n",
    "    def __init__(self, key, parent, children = None):\n",
    "        self.key = key\n",
    "        self.parent = parent\n",
    "        self.children = [] # list of Node(s)\n",
    "        \n",
    "    def add_child(self, node):\n",
    "        self.children.append(node)\n",
    "        \n",
    "    def __str__(self):\n",
    "        return f\"key: {self.key}, parent: {self.parent}, + children: {self.children}\"\n",
    "\n",
    "class Tree:\n",
    "    def __init__(self, start_data):\n",
    "        self.root = None # index of the root\n",
    "        self.nodes = []\n",
    "                \n",
    "        self.store_tree()\n",
    "        \n",
    "    def store_tree(self):\n",
    "        \n",
    "        # Create a list with the values of the nodes wrapped inside a Node\n",
    "        # [Node(key:0, parent: node with key 4, which is in position 4 of this list), Node(key:1, parent: None), ... ]\n",
    "        for i, parent in enumerate(start_data):\n",
    "            # If current node is root\n",
    "            if parent == -1:\n",
    "                self.root = i\n",
    "                self.nodes.append(Node(i, None)) # Set parent to None for the root\n",
    "            else:\n",
    "                self.nodes.append(Node(i, parent))\n",
    "        \n",
    "        for node in self.nodes:\n",
    "            parent = node.parent # position of the parent node\n",
    "            if parent != None:\n",
    "                self.nodes[parent].add_child(node)\n",
    "        \n",
    "    def height(self, tree):\n",
    "        heights = []\n",
    "        for child in tree.children:\n",
    "            heights.append(self.height(child) + 1)\n",
    "        \n",
    "        if len(heights) > 0:\n",
    "            return max(heights)\n",
    "        \n",
    "        return 1\n",
    "        \n",
    "    def tree_height(self):\n",
    "        root = self.nodes[self.root]\n",
    "        height = self.height(root)\n",
    "        \n",
    "        return height"
   ]
  },
  {
   "cell_type": "code",
   "execution_count": 59,
   "id": "rapid-score",
   "metadata": {},
   "outputs": [
    {
     "data": {
      "text/plain": [
       "4"
      ]
     },
     "execution_count": 59,
     "metadata": {},
     "output_type": "execute_result"
    }
   ],
   "source": [
    "start_data = [-1, 0, 4, 0, 3]\n",
    "tree = Tree(start_data)\n",
    "tree.tree_height()"
   ]
  }
 ],
 "metadata": {
  "kernelspec": {
   "display_name": "Python 3",
   "language": "python",
   "name": "python3"
  },
  "language_info": {
   "codemirror_mode": {
    "name": "ipython",
    "version": 3
   },
   "file_extension": ".py",
   "mimetype": "text/x-python",
   "name": "python",
   "nbconvert_exporter": "python",
   "pygments_lexer": "ipython3",
   "version": "3.7.9"
  }
 },
 "nbformat": 4,
 "nbformat_minor": 5
}
